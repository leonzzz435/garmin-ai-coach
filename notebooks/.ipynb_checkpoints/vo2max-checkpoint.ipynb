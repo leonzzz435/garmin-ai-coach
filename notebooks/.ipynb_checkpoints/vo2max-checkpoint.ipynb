{
 "cells": [
  {
   "cell_type": "markdown",
   "metadata": {},
   "source": [
    "# Testing Cycling VO2max Data Extraction from Garmin Connect\n",
    "\n",
    "This notebook explores how to extract cycling VO2max evolution data from Garmin Connect, similar to how running VO2max history is already implemented."
   ]
  },
  {
   "cell_type": "code",
   "execution_count": null,
   "metadata": {},
   "source": [
    "# Import necessary libraries\n",
    "import sys\n",
    "import os\n",
    "from pathlib import Path\n",
    "import json\n",
    "import pandas as pd\n",
    "import matplotlib.pyplot as plt\n",
    "from datetime import datetime, date, timedelta\n",
    "from typing import Dict, Any, List, Optional\n",
    "\n",
    "# Add the project root to Python path\n",
    "project_root = Path.cwd().parent  # Assuming notebook is in project/notebooks/\n",
    "sys.path.append(str(project_root))\n",
    "\n",
    "# Import our project modules\n",
    "from services.garmin.client import GarminConnectClient\n",
    "from services.garmin.models import ExtractionConfig"
   ]
  },
  {
   "cell_type": "code",
   "execution_count": null,
   "metadata": {},
   "source": [
    "# Initialize the Garmin client\n",
    "email = \"your_email@example.com\"  # Replace with your email\n",
    "password = \"your_password\"  # Replace with your password\n",
    "\n",
    "client = GarminConnectClient()\n",
    "client.connect(email, password)\n",
    "print(\"Successfully connected to Garmin Connect\")"
   ]
  },
  {
   "cell_type": "markdown",
   "metadata": {},
   "source": [
    "## 1. Exploring User Profile Data\n",
    "\n",
    "First, let's check what VO2max data is available in the user profile:"
   ]
  },
  {
   "cell_type": "code",
   "execution_count": null,
   "metadata": {},
   "source": [
    "# Get user profile to check current VO2max values\n",
    "user_profile = client.get_user_profile()\n",
    "user_data = user_profile.get('userData', {})\n",
    "\n",
    "# Extract VO2max values\n",
    "vo2max_running = user_data.get('vo2MaxRunning')\n",
    "vo2max_cycling = user_data.get('vo2MaxCycling')\n",
    "\n",
    "print(f\"Current Running VO2max: {vo2max_running}\")\n",
    "print(f\"Current Cycling VO2max: {vo2max_cycling}\")"
   ]
  },
  {
   "cell_type": "markdown",
   "metadata": {},
   "source": [
    "## 2. Exploring Training Status API\n",
    "\n",
    "Now, let's look at the training status API to see if it contains VO2max history for both running and cycling:"
   ]
  },
  {
   "cell_type": "code",
   "execution_count": null,
   "metadata": {},
   "source": [
    "# Get today's date\n",
    "today = date.today()\n",
    "\n",
    "# Get training status for today\n",
    "training_status = client.get_training_status(today.isoformat())\n",
    "\n",
    "# Pretty print the structure to examine\n",
    "print(\"Training Status API Structure:\")\n",
    "print(json.dumps(training_status, indent=2)[:1000] + \"...\")"
   ]
  },
  {
   "cell_type": "markdown",
   "metadata": {},
   "source": [
    "## 3. Exploring VO2max History API\n",
    "\n",
    "Let's look at the specific API for VO2max history:"
   ]
  },
  {
   "cell_type": "code",
   "execution_count": null,
   "metadata": {},
   "source": [
    "# Define date range\n",
    "end_date = date.today()\n",
    "start_date = end_date - timedelta(days=90)  # Look back 90 days\n",
    "\n",
    "# Attempt to get VO2max history\n",
    "try:\n",
    "    vo2max_history = client.get_vo2max_history(start_date.isoformat(), end_date.isoformat())\n",
    "    print(\"VO2max History API Structure:\")\n",
    "    print(json.dumps(vo2max_history, indent=2)[:1000] + \"...\")\n",
    "except Exception as e:\n",
    "    print(f\"Error getting VO2max history: {str(e)}\")\n",
    "    # If that fails, let's see what methods are available to try\n",
    "    for method_name in dir(client):\n",
    "        if 'vo2' in method_name.lower():\n",
    "            print(f\"Found potential method: {method_name}\")"
   ]
  },
  {
   "cell_type": "markdown",
   "metadata": {},
   "source": [
    "## 4. Exploring Other Potential API Endpoints\n",
    "\n",
    "If the standard methods don't work, let's try other endpoints that might contain cycling VO2max data:"
   ]
  },
  {
   "cell_type": "code",
   "execution_count": null,
   "metadata": {},
   "source": [
    "# Try getting fitness history which might contain VO2max for different sports\n",
    "try:\n",
    "    fitness_history = client.get_fitness_status(start_date.isoformat(), end_date.isoformat())\n",
    "    print(\"Fitness History API Structure:\")\n",
    "    print(json.dumps(fitness_history, indent=2)[:1000] + \"...\")\n",
    "except Exception as e:\n",
    "    print(f\"Error getting fitness history: {str(e)}\")\n",
    "    \n",
    "# Try getting personal records which might include VO2max history\n",
    "try:\n",
    "    personal_records = client.get_personal_records()\n",
    "    print(\"Personal Records API Structure:\")\n",
    "    print(json.dumps(personal_records, indent=2)[:1000] + \"...\")\n",
    "except Exception as e:\n",
    "    print(f\"Error getting personal records: {str(e)}\")"
   ]
  },
  {
   "cell_type": "markdown",
   "metadata": {},
   "source": [
    "## 5. Activity-Based VO2max Data\n",
    "\n",
    "Let's analyze activities to see if they contain cycling VO2max information:"
   ]
  },
  {
   "cell_type": "code",
   "execution_count": null,
   "metadata": {},
   "source": [
    "# Get recent cycling activities\n",
    "activities = client.get_activities_by_date(start_date.isoformat(), end_date.isoformat())\n",
    "\n",
    "# Filter only cycling activities\n",
    "cycling_activities = [a for a in activities if 'cycling' in str(a.get('activityType', {})).lower()]\n",
    "print(f\"Found {len(cycling_activities)} cycling activities\")\n",
    "\n",
    "# Check a few cycling activities for VO2max data\n",
    "vo2max_data = []\n",
    "for i, activity in enumerate(cycling_activities[:5]):  # Check first 5 cycling activities\n",
    "    activity_id = activity.get('activityId')\n",
    "    if activity_id:\n",
    "        try:\n",
    "            detailed_activity = client.get_activity(activity_id)\n",
    "            # Look for VO2max data\n",
    "            vo2max = None\n",
    "            if detailed_activity:\n",
    "                # Check various possible locations\n",
    "                vo2max = (\n",
    "                    detailed_activity.get('vo2Max') or\n",
    "                    detailed_activity.get('vo2MaxValue') or\n",
    "                    detailed_activity.get('metadataDTO', {}).get('vo2Max') or\n",
    "                    detailed_activity.get('summaryDTO', {}).get('vo2Max')\n",
    "                )\n",
    "                \n",
    "                # If found, add to our list\n",
    "                if vo2max:\n",
    "                    vo2max_data.append({\n",
    "                        'date': detailed_activity.get('startTimeLocal'),\n",
    "                        'vo2max': vo2max,\n",
    "                        'activity_id': activity_id,\n",
    "                        'activity_name': detailed_activity.get('activityName')\n",
    "                    })\n",
    "                    print(f\"Found VO2max data in activity {activity_id}: {vo2max}\")\n",
    "        except Exception as e:\n",
    "            print(f\"Error getting activity {activity_id}: {str(e)}\")\n",
    "\n",
    "print(f\"Found VO2max data in {len(vo2max_data)} cycling activities\")"
   ]
  },
  {
   "cell_type": "markdown",
   "metadata": {},
   "source": [
    "## 6. Attempt to Find Cycling VO2max History in Other API Endpoints\n",
    "\n",
    "Let's explore some undocumented or less common endpoints that might contain cycling VO2max history:"
   ]
  },
  {
   "cell_type": "code",
   "execution_count": null,
   "metadata": {},
   "source": [
    "# Try to directly access the user stats endpoint\n",
    "try:\n",
    "    # This endpoint might have detailed user stats including VO2max history\n",
    "    user_stats = client.modern_api_client.get(\"userstats\")\n",
    "    print(\"User Stats API Structure:\")\n",
    "    print(json.dumps(user_stats, indent=2)[:1000] + \"...\")\n",
    "except Exception as e:\n",
    "    print(f\"Error getting user stats: {str(e)}\")\n",
    "    \n",
    "# Try to access the performance condition endpoint which might include VO2max\n",
    "try:\n",
    "    performance = client.modern_api_client.get(f\"metrics/performancecondition/{start_date.isoformat()}/{end_date.isoformat()}\")\n",
    "    print(\"Performance Condition API Structure:\")\n",
    "    print(json.dumps(performance, indent=2)[:1000] + \"...\")\n",
    "except Exception as e:\n",
    "    print(f\"Error getting performance condition: {str(e)}\")"
   ]
  },
  {
   "cell_type": "markdown",
   "metadata": {},
   "source": [
    "## 7. Implementation: Adding Cycling VO2max History to Data Extractor\n",
    "\n",
    "Based on our findings, here's how we could implement cycling VO2max history extraction:"
   ]
  },
  {
   "cell_type": "code",
   "execution_count": null,
   "metadata": {},
   "source": [
    "# Example implementation for extracting both running and cycling VO2max history\n",
    "def get_vo2max_history(client, start_date, end_date):\n",
    "    \"\"\"Get both running and cycling VO2max history.\"\"\"\n",
    "    result = {\n",
    "        'running': [],\n",
    "        'cycling': []\n",
    "    }\n",
    "    \n",
    "    try:\n",
    "        # Get standard VO2max history (typically running)\n",
    "        running_vo2max = client.get_vo2max_history(start_date, end_date)\n",
    "        \n",
    "        # Process running VO2max data\n",
    "        if running_vo2max and 'vo2MaxHistory' in running_vo2max:\n",
    "            for point in running_vo2max['vo2MaxHistory']:\n",
    "                if 'calendarDate' in point and 'value' in point:\n",
    "                    result['running'].append({\n",
    "                        'date': point['calendarDate'],\n",
    "                        'value': point['value']\n",
    "                    })\n",
    "    except Exception as e:\n",
    "        print(f\"Error getting running VO2max history: {str(e)}\")\n",
    "    \n",
    "    try:\n",
    "        # Based on our findings, try the appropriate method for cycling VO2max\n",
    "        # This will depend on what we discovered in the previous cells\n",
    "        # For now, I'll use a placeholder approach:\n",
    "        \n",
    "        # Option 1: If cycling VO2max is in the same endpoint but different field\n",
    "        cycling_vo2max = client.get_cycling_vo2max_history(start_date, end_date)\n",
    "        \n",
    "        # Process cycling VO2max data\n",
    "        if cycling_vo2max and 'vo2MaxCyclingHistory' in cycling_vo2max:\n",
    "            for point in cycling_vo2max['vo2MaxCyclingHistory']:\n",
    "                if 'calendarDate' in point and 'value' in point:\n",
    "                    result['cycling'].append({\n",
    "                        'date': point['calendarDate'],\n",
    "                        'value': point['value']\n",
    "                    })\n",
    "                    \n",
    "        # Option 2: If we need to extract from activities\n",
    "        # This would involve getting all cycling activities and extracting VO2max\n",
    "        # Similar to what we did in cell 5\n",
    "    except Exception as e:\n",
    "        print(f\"Error getting cycling VO2max history: {str(e)}\")\n",
    "    \n",
    "    return result"
   ]
  },
  {
   "cell_type": "markdown",
   "metadata": {},
   "source": [
    "## 8. Visualizing the Results\n",
    "\n",
    "If we found data, let's visualize it to compare running and cycling VO2max evolution:"
   ]
  },
  {
   "cell_type": "code",
   "execution_count": null,
   "metadata": {},
   "source": [
    "# Assuming we've collected data from previous cells\n",
    "# Create pandas dataframes for visualization\n",
    "\n",
    "# Sample data (replace with actual data from our findings)\n",
    "sample_running_data = [\n",
    "    {'date': '2025-05-01', 'value': 47.0},\n",
    "    {'date': '2025-04-15', 'value': 46.5},\n",
    "    {'date': '2025-04-01', 'value': 46.0}\n",
    "]\n",
    "\n",
    "sample_cycling_data = [\n",
    "    {'date': '2025-05-01', 'value': 49.0},\n",
    "    {'date': '2025-04-15', 'value': 48.5},\n",
    "    {'date': '2025-04-01', 'value': 48.0}\n",
    "]\n",
    "\n",
    "# Convert to dataframes\n",
    "running_df = pd.DataFrame(sample_running_data)\n",
    "running_df['date'] = pd.to_datetime(running_df['date'])\n",
    "running_df = running_df.sort_values('date')\n",
    "\n",
    "cycling_df = pd.DataFrame(sample_cycling_data)\n",
    "cycling_df['date'] = pd.to_datetime(cycling_df['date'])\n",
    "cycling_df = cycling_df.sort_values('date')\n",
    "\n",
    "# Plot the data\n",
    "plt.figure(figsize=(12, 6))\n",
    "plt.plot(running_df['date'], running_df['value'], 'b-', label='Running VO2max')\n",
    "plt.plot(cycling_df['date'], cycling_df['value'], 'r-', label='Cycling VO2max')\n",
    "plt.xlabel('Date')\n",
    "plt.ylabel('VO2max')\n",
    "plt.title('VO2max Evolution: Running vs Cycling')\n",
    "plt.legend()\n",
    "plt.grid(True)\n",
    "plt.tight_layout()\n",
    "plt.show()"
   ]
  },
  {
   "cell_type": "markdown",
   "metadata": {},
   "source": [
    "## 9. Recommendations for Implementation\n",
    "\n",
    "Based on our findings, here's how we should update the `get_vo2_max_history` method in the `TriathlonCoachDataExtractor` class:\n",
    "\n",
    "```python\n",
    "def get_vo2_max_history(self, start_date: date, end_date: date) -> Dict[str, List[Dict[str, Any]]]:\n",
    "    \"\"\"Get VO2max history for both running and cycling.\"\"\"\n",
    "    result = {\n",
    "        'running': [],\n",
    "        'cycling': []\n",
    "    }\n",
    "    \n",
    "    # Get running VO2max history\n",
    "    try:\n",
    "        running_vo2max = self.garmin.client.get_vo2max_history(start_date.isoformat(), end_date.isoformat())\n",
    "        \n",
    "        if running_vo2max and 'vo2MaxHistory' in running_vo2max:\n",
    "            for point in running_vo2max['vo2MaxHistory']:\n",
    "                if 'calendarDate' in point and 'value' in point:\n",
    "                    result['running'].append({\n",
    "                        'date': point['calendarDate'],\n",
    "                        'value': point['value']\n",
    "                    })\n",
    "    except Exception as e:\n",
    "        logger.error(f\"Error getting running VO2max history: {str(e)}\")\n",
    "    \n",
    "    # Get cycling VO2max history\n",
    "    # Based on our findings in this notebook, implement the appropriate method\n",
    "    try:\n",
    "        # If a direct API endpoint exists:\n",
    "        cycling_vo2max = self.garmin.client.get_cycling_vo2max_history(start_date.isoformat(), end_date.isoformat())\n",
    "        \n",
    "        if cycling_vo2max and 'vo2MaxCyclingHistory' in cycling_vo2max:\n",
    "            for point in cycling_vo2max['vo2MaxCyclingHistory']:\n",
    "                if 'calendarDate' in point and 'value' in point:\n",
    "                    result['cycling'].append({\n",
    "                        'date': point['calendarDate'],\n",
    "                        'value': point['value']\n",
    "                    })\n",
    "                    \n",
    "        # Alternatively, if we need to extract from activities:\n",
    "        # Get all cycling activities and look for VO2max values\n",
    "        cycling_activities = self.garmin.client.get_activities_by_date(\n",
    "            start_date.isoformat(), \n",
    "            end_date.isoformat(), \n",
    "            activity_type='cycling'\n",
    "        )\n",
    "        \n",
    "        for activity in cycling_activities:\n",
    "            activity_id = activity.get('activityId')\n",
    "            if activity_id:\n",
    "                detailed_activity = self.garmin.client.get_activity(activity_id)\n",
    "                vo2max = detailed_activity.get('vo2Max')\n",
    "                if vo2max:\n",
    "                    result['cycling'].append({\n",
    "                        'date': detailed_activity.get('startTimeLocal').split('T')[0],\n",
    "                        'value': vo2max\n",
    "                    })\n",
    "    except Exception as e:\n",
    "        logger.error(f\"Error getting cycling VO2max history: {str(e)}\")\n",
    "    \n",
    "    return result\n",
    "```"
   ]
  }
 ],
 "metadata": {
  "kernelspec": {
   "display_name": "Python 3",
   "language": "python",
   "name": "python3"
  },
  "language_info": {
   "codemirror_mode": {
    "name": "ipython",
    "version": 3
   },
   "file_extension": ".py",
   "mimetype": "text/x-python",
   "name": "python",
   "nbconvert_exporter": "python",
   "pygments_lexer": "ipython3",
   "version": "3.8.10"
  }
 },
 "nbformat": 4,
 "nbformat_minor": 4
}
